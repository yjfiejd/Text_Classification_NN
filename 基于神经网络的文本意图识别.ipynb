{
 "cells": [
  {
   "cell_type": "code",
   "execution_count": 1,
   "metadata": {},
   "outputs": [],
   "source": [
    "#1) 导入常用的包\n",
    "import nltk\n",
    "from nltk.stem.lancaster import LancasterStemmer\n",
    "import os\n",
    "import json\n",
    "import datetime\n",
    "stemmer = LancasterStemmer()"
   ]
  },
  {
   "cell_type": "code",
   "execution_count": 3,
   "metadata": {},
   "outputs": [
    {
     "name": "stdout",
     "output_type": "stream",
     "text": [
      "12entences in training data\n"
     ]
    }
   ],
   "source": [
    "#2) 构造3类意图：greeting, goodbye, sandwich:\n",
    "training_data = []\n",
    "training_data.append({\"class\":\"greeting\", \"sentence\":\"how are you?\" })\n",
    "training_data.append({\"class\":\"greeting\", \"sentence\":\"how is your day?\" })\n",
    "training_data.append({\"class\":\"greeting\", \"sentence\":\"good day\" })\n",
    "training_data.append({\"class\":\"greeting\", \"sentence\":\"how is it going today?\" })\n",
    "\n",
    "training_data.append({\"class\":\"goodbye\", \"sentence\":\"have a nice day\" })\n",
    "training_data.append({\"class\":\"goodbye\", \"sentence\":\"see you later\" })\n",
    "training_data.append({\"class\":\"goodbye\", \"sentence\":\"have a nice day\" })\n",
    "training_data.append({\"class\":\"goodbye\", \"sentence\":\"talk to you soon\" })\n",
    "\n",
    "training_data.append({\"class\":\"sandwich\", \"sentence\":\"make me a sandwich\" })\n",
    "training_data.append({\"class\":\"sandwich\", \"sentence\":\"can you make a sandwich?\" })\n",
    "training_data.append({\"class\":\"sandwich\", \"sentence\":\"having a sandwich today?\" })\n",
    "training_data.append({\"class\":\"sandwich\", \"sentence\":\"what's for lunch?\" })\n",
    "print(\"% sentences in training data\" % len(training_data))\n"
   ]
  },
  {
   "cell_type": "code",
   "execution_count": 4,
   "metadata": {},
   "outputs": [
    {
     "data": {
      "text/plain": [
       "[{'class': 'greeting', 'sentence': 'how are you?'},\n",
       " {'class': 'greeting', 'sentence': 'how is your day?'},\n",
       " {'class': 'greeting', 'sentence': 'good day'},\n",
       " {'class': 'greeting', 'sentence': 'how is it going today?'},\n",
       " {'class': 'goodbye', 'sentence': 'have a nice day'},\n",
       " {'class': 'goodbye', 'sentence': 'see you later'},\n",
       " {'class': 'goodbye', 'sentence': 'have a nice day'},\n",
       " {'class': 'goodbye', 'sentence': 'talk to you soon'},\n",
       " {'class': 'sandwich', 'sentence': 'make me a sandwich'},\n",
       " {'class': 'sandwich', 'sentence': 'can you make a sandwich?'},\n",
       " {'class': 'sandwich', 'sentence': 'having a sandwich today?'},\n",
       " {'class': 'sandwich', 'sentence': \"what's for lunch?\"}]"
      ]
     },
     "execution_count": 4,
     "metadata": {},
     "output_type": "execute_result"
    }
   ],
   "source": [
    "training_data"
   ]
  },
  {
   "cell_type": "code",
   "execution_count": 12,
   "metadata": {
    "scrolled": true
   },
   "outputs": [
    {
     "name": "stdout",
     "output_type": "stream",
     "text": [
      "greeting\n",
      "['how', 'are', 'you', '?']\n",
      "(['how', 'are', 'you', '?'], 'greeting')\n",
      "greeting\n",
      "['how', 'is', 'your', 'day', '?']\n",
      "(['how', 'is', 'your', 'day', '?'], 'greeting')\n",
      "greeting\n",
      "['good', 'day']\n",
      "(['good', 'day'], 'greeting')\n",
      "greeting\n",
      "['how', 'is', 'it', 'going', 'today', '?']\n",
      "(['how', 'is', 'it', 'going', 'today', '?'], 'greeting')\n",
      "goodbye\n",
      "['have', 'a', 'nice', 'day']\n",
      "(['have', 'a', 'nice', 'day'], 'goodbye')\n",
      "goodbye\n",
      "['see', 'you', 'later']\n",
      "(['see', 'you', 'later'], 'goodbye')\n",
      "goodbye\n",
      "['have', 'a', 'nice', 'day']\n",
      "(['have', 'a', 'nice', 'day'], 'goodbye')\n",
      "goodbye\n",
      "['talk', 'to', 'you', 'soon']\n",
      "(['talk', 'to', 'you', 'soon'], 'goodbye')\n",
      "sandwich\n",
      "['make', 'me', 'a', 'sandwich']\n",
      "(['make', 'me', 'a', 'sandwich'], 'sandwich')\n",
      "sandwich\n",
      "['can', 'you', 'make', 'a', 'sandwich', '?']\n",
      "(['can', 'you', 'make', 'a', 'sandwich', '?'], 'sandwich')\n",
      "sandwich\n",
      "['having', 'a', 'sandwich', 'today', '?']\n",
      "(['having', 'a', 'sandwich', 'today', '?'], 'sandwich')\n",
      "sandwich\n",
      "['what', \"'s\", 'for', 'lunch', '?']\n",
      "(['what', \"'s\", 'for', 'lunch', '?'], 'sandwich')\n"
     ]
    }
   ],
   "source": [
    "a = []\n",
    "for i in training_data:\n",
    "    print(i['class'])\n",
    "    w = nltk.word_tokenize(i['sentence'])\n",
    "    print(w)\n",
    "    print((w, i['class']))\n",
    "#     print(i)\n",
    "#     print(i['sentence'])\n",
    "#     a.append(i['sentence'])\n"
   ]
  },
  {
   "cell_type": "code",
   "execution_count": 21,
   "metadata": {},
   "outputs": [
    {
     "name": "stdout",
     "output_type": "stream",
     "text": [
      "1 documents长度 [(['how', 'are', 'you', '?'], 'greeting')]\n",
      "1 classes的长度 ['greeting']\n",
      "3 words的长度 ['how', 'you', 'ar']\n",
      "-------------------------\n",
      "2 documents长度 [(['how', 'are', 'you', '?'], 'greeting'), (['how', 'is', 'your', 'day', '?'], 'greeting')]\n",
      "1 classes的长度 ['greeting']\n",
      "6 words的长度 ['ar', 'you', 'day', 'is', 'how', 'yo']\n",
      "-------------------------\n",
      "3 documents长度 [(['how', 'are', 'you', '?'], 'greeting'), (['how', 'is', 'your', 'day', '?'], 'greeting'), (['good', 'day'], 'greeting')]\n",
      "1 classes的长度 ['greeting']\n",
      "7 words的长度 ['ar', 'you', 'good', 'day', 'is', 'how', 'yo']\n",
      "-------------------------\n",
      "4 documents长度 [(['how', 'are', 'you', '?'], 'greeting'), (['how', 'is', 'your', 'day', '?'], 'greeting'), (['good', 'day'], 'greeting'), (['how', 'is', 'it', 'going', 'today', '?'], 'greeting')]\n",
      "1 classes的长度 ['greeting']\n",
      "10 words的长度 ['it', 'ar', 'you', 'good', 'going', 'day', 'is', 'how', 'yo', 'today']\n",
      "-------------------------\n",
      "5 documents长度 [(['how', 'are', 'you', '?'], 'greeting'), (['how', 'is', 'your', 'day', '?'], 'greeting'), (['good', 'day'], 'greeting'), (['how', 'is', 'it', 'going', 'today', '?'], 'greeting'), (['have', 'a', 'nice', 'day'], 'goodbye')]\n",
      "2 classes的长度 ['greeting', 'goodbye']\n",
      "13 words的长度 ['nic', 'ar', 'you', 'yo', 'good', 'a', 'going', 'day', 'is', 'hav', 'how', 'it', 'today']\n",
      "-------------------------\n",
      "6 documents长度 [(['how', 'are', 'you', '?'], 'greeting'), (['how', 'is', 'your', 'day', '?'], 'greeting'), (['good', 'day'], 'greeting'), (['how', 'is', 'it', 'going', 'today', '?'], 'greeting'), (['have', 'a', 'nice', 'day'], 'goodbye'), (['see', 'you', 'later'], 'goodbye')]\n",
      "2 classes的长度 ['greeting', 'goodbye']\n",
      "15 words的长度 ['lat', 'nic', 'ar', 'you', 'how', 'see', 'good', 'a', 'going', 'day', 'is', 'hav', 'yo', 'it', 'today']\n",
      "-------------------------\n",
      "7 documents长度 [(['how', 'are', 'you', '?'], 'greeting'), (['how', 'is', 'your', 'day', '?'], 'greeting'), (['good', 'day'], 'greeting'), (['how', 'is', 'it', 'going', 'today', '?'], 'greeting'), (['have', 'a', 'nice', 'day'], 'goodbye'), (['see', 'you', 'later'], 'goodbye'), (['have', 'a', 'nice', 'day'], 'goodbye')]\n",
      "2 classes的长度 ['greeting', 'goodbye']\n",
      "15 words的长度 ['lat', 'nic', 'it', 'ar', 'you', 'see', 'good', 'a', 'going', 'day', 'is', 'hav', 'how', 'yo', 'today']\n",
      "-------------------------\n",
      "8 documents长度 [(['how', 'are', 'you', '?'], 'greeting'), (['how', 'is', 'your', 'day', '?'], 'greeting'), (['good', 'day'], 'greeting'), (['how', 'is', 'it', 'going', 'today', '?'], 'greeting'), (['have', 'a', 'nice', 'day'], 'goodbye'), (['see', 'you', 'later'], 'goodbye'), (['have', 'a', 'nice', 'day'], 'goodbye'), (['talk', 'to', 'you', 'soon'], 'goodbye')]\n",
      "2 classes的长度 ['greeting', 'goodbye']\n",
      "18 words的长度 ['lat', 'nic', 'soon', 'to', 'talk', 'ar', 'you', 'yo', 'see', 'good', 'a', 'going', 'day', 'is', 'hav', 'how', 'it', 'today']\n",
      "-------------------------\n",
      "9 documents长度 [(['how', 'are', 'you', '?'], 'greeting'), (['how', 'is', 'your', 'day', '?'], 'greeting'), (['good', 'day'], 'greeting'), (['how', 'is', 'it', 'going', 'today', '?'], 'greeting'), (['have', 'a', 'nice', 'day'], 'goodbye'), (['see', 'you', 'later'], 'goodbye'), (['have', 'a', 'nice', 'day'], 'goodbye'), (['talk', 'to', 'you', 'soon'], 'goodbye'), (['make', 'me', 'a', 'sandwich'], 'sandwich')]\n",
      "3 classes的长度 ['greeting', 'goodbye', 'sandwich']\n",
      "21 words的长度 ['soon', 'mak', 'a', 'it', 'talk', 'hav', 'is', 'yo', 'lat', 'ar', 'you', 'see', 'good', 'going', 'day', 'how', 'nic', 'to', 'me', 'sandwich', 'today']\n",
      "-------------------------\n",
      "10 documents长度 [(['how', 'are', 'you', '?'], 'greeting'), (['how', 'is', 'your', 'day', '?'], 'greeting'), (['good', 'day'], 'greeting'), (['how', 'is', 'it', 'going', 'today', '?'], 'greeting'), (['have', 'a', 'nice', 'day'], 'goodbye'), (['see', 'you', 'later'], 'goodbye'), (['have', 'a', 'nice', 'day'], 'goodbye'), (['talk', 'to', 'you', 'soon'], 'goodbye'), (['make', 'me', 'a', 'sandwich'], 'sandwich'), (['can', 'you', 'make', 'a', 'sandwich', '?'], 'sandwich')]\n",
      "3 classes的长度 ['greeting', 'goodbye', 'sandwich']\n",
      "22 words的长度 ['soon', 'mak', 'a', 'it', 'talk', 'can', 'hav', 'is', 'yo', 'lat', 'ar', 'you', 'see', 'good', 'going', 'day', 'how', 'nic', 'to', 'me', 'sandwich', 'today']\n",
      "-------------------------\n",
      "11 documents长度 [(['how', 'are', 'you', '?'], 'greeting'), (['how', 'is', 'your', 'day', '?'], 'greeting'), (['good', 'day'], 'greeting'), (['how', 'is', 'it', 'going', 'today', '?'], 'greeting'), (['have', 'a', 'nice', 'day'], 'goodbye'), (['see', 'you', 'later'], 'goodbye'), (['have', 'a', 'nice', 'day'], 'goodbye'), (['talk', 'to', 'you', 'soon'], 'goodbye'), (['make', 'me', 'a', 'sandwich'], 'sandwich'), (['can', 'you', 'make', 'a', 'sandwich', '?'], 'sandwich'), (['having', 'a', 'sandwich', 'today', '?'], 'sandwich')]\n",
      "3 classes的长度 ['greeting', 'goodbye', 'sandwich']\n",
      "22 words的长度 ['soon', 'mak', 'a', 'it', 'talk', 'can', 'hav', 'is', 'yo', 'lat', 'ar', 'you', 'see', 'good', 'going', 'day', 'how', 'nic', 'to', 'me', 'sandwich', 'today']\n",
      "-------------------------\n",
      "12 documents长度 [(['how', 'are', 'you', '?'], 'greeting'), (['how', 'is', 'your', 'day', '?'], 'greeting'), (['good', 'day'], 'greeting'), (['how', 'is', 'it', 'going', 'today', '?'], 'greeting'), (['have', 'a', 'nice', 'day'], 'goodbye'), (['see', 'you', 'later'], 'goodbye'), (['have', 'a', 'nice', 'day'], 'goodbye'), (['talk', 'to', 'you', 'soon'], 'goodbye'), (['make', 'me', 'a', 'sandwich'], 'sandwich'), (['can', 'you', 'make', 'a', 'sandwich', '?'], 'sandwich'), (['having', 'a', 'sandwich', 'today', '?'], 'sandwich'), (['what', \"'s\", 'for', 'lunch', '?'], 'sandwich')]\n",
      "3 classes的长度 ['greeting', 'goodbye', 'sandwich']\n",
      "26 words的长度 ['soon', 'mak', 'a', 'it', 'for', 'talk', \"'s\", 'can', 'what', 'hav', 'is', 'yo', 'lat', 'ar', 'you', 'see', 'good', 'going', 'day', 'how', 'nic', 'to', 'lunch', 'me', 'sandwich', 'today']\n",
      "-------------------------\n"
     ]
    }
   ],
   "source": [
    "#3) 进行数据预处理\n",
    "words = []\n",
    "classes = []\n",
    "documents = []\n",
    "ignore_words = ['?']\n",
    "\n",
    "#遍历训练集合\n",
    "for pattern in training_data:\n",
    "    #使用nltk.tokenize进行分词\n",
    "    w = nltk.word_tokenize(pattern['sentence'])\n",
    "    #把分词后的sentence加入words中\n",
    "    words.extend(w)\n",
    "    #把class加入documents中\n",
    "    documents.append((w, pattern['class']))\n",
    "    #把不在classes list中的词语加入classes\n",
    "    if pattern['class'] not in classes:\n",
    "        classes.append(pattern['class'])\n",
    "        \n",
    "    #取词干，小写，去重\n",
    "    words = [stemmer.stem(w.lower()) for w in words if w not in ignore_words]\n",
    "    words = list(set(words))\n",
    "    classes = list(set(classes))\n",
    "    \n",
    "    print(len(documents), \"documents长度\",documents)\n",
    "    print(len(classes), \"classes的长度\", classes)\n",
    "    print(len(words), \"words的长度\", words)\n",
    "    print(\"-------------------------\")\n",
    "    "
   ]
  },
  {
   "cell_type": "code",
   "execution_count": 31,
   "metadata": {},
   "outputs": [
    {
     "name": "stdout",
     "output_type": "stream",
     "text": [
      "['how', 'are', 'you', '?']\n",
      "['how', 'ar', 'you', '?']\n",
      "training中第一个元素： [0, 0, 0, 0, 0, 0, 0, 0, 0, 0, 0, 0, 0, 1, 1, 0, 0, 0, 0, 1, 0, 0, 0, 0, 0, 0]\n",
      "classes类别: [1, 0, 0]\n",
      "----------------------\n",
      "# words 26\n",
      "# classes 3\n"
     ]
    }
   ],
   "source": [
    "#4） 将训练数据中的每个句子转化为词袋，每个训练语句变化为只有0和1的数组\n",
    "training = []\n",
    "output = []\n",
    "\n",
    "output_empty = [0] * len(classes)\n",
    "for doc in documents:\n",
    "    #初始化词袋\n",
    "    bag = []\n",
    "    #取doc中第一个元素，就是分词后结果\n",
    "    pattern_words = doc[0]\n",
    "    #stem+小写\n",
    "    pattern_words = [stemmer.stem(word.lower()) for word in pattern_words]\n",
    "    #创建words array, words（已经set过的），让每句实现0、1表示\n",
    "    for w in words:\n",
    "        bag.append(1) if w in pattern_words else bag.append(0)\n",
    "#         print(bag)\n",
    "    \n",
    "#     print(\"--------------------\")\n",
    "    training.append(bag)\n",
    "#     print(training)\n",
    "#     print(\"********************\")\n",
    "    \n",
    "    #表示输出哪一个意图的类\n",
    "    output_row = list(output_empty)\n",
    "    output_row[classes.index(doc[1])] = 1\n",
    "    output.append(output_row)\n",
    "\n",
    "i = 0\n",
    "w = documents[i][0]\n",
    "print(w)\n",
    "print([stemmer.stem(word.lower()) for word in w])\n",
    "print(\"training中第一个元素：\",training[i])\n",
    "print(\"classes类别:\",output[i])\n",
    "print(\"----------------------\")\n",
    "print(\"# words\", len(words))\n",
    "print(\"# classes\", len(classes))\n",
    "    \n"
   ]
  },
  {
   "cell_type": "code",
   "execution_count": 32,
   "metadata": {},
   "outputs": [],
   "source": [
    "#5） 使用Sigmoid函数作为神经元的激活函数。然后不断进行参数调整，直到错误率降低到可接受\n",
    "import numpy as np\n",
    "import time\n",
    "\n",
    "#定义sigmoid函数\n",
    "def sigmoid(x):\n",
    "    output = 1/(1+np.exp(-x))\n",
    "    return output\n",
    "\n",
    "# convert output of sigmoid function to its derivative\n",
    "def sigmoid_output_to_derivative(output):\n",
    "    return output*(1-output)\n",
    "\n",
    "def clean_up_sentence(sentence):\n",
    "    sentence_words = nltk.word_tokenize(sentence)\n",
    "    sentence_words = [stemmer.stem(word.lower()) for word in sentence_words]\n",
    "    return sentence_words\n",
    "\n",
    "#返回bag of words, 0,1对每个sentence中的word\n",
    "def bow(sentence, words, show_details = False):\n",
    "    sentence_words = clean_up_sentence(sentence)\n",
    "    bag = [0] * len(words)\n",
    "    for s in sentence_words:\n",
    "        for i, w in enumerate(words):\n",
    "            if w == s:\n",
    "                bag[i] = 1\n",
    "                if show_details:\n",
    "                    print(\"found in bag: %s\" % w )\n",
    "    return (np.array(bag))\n",
    "\n",
    "def think(sentence, show_details = False):\n",
    "    x = bow(sentence.lower(), words, show_details)\n",
    "    if show_details:\n",
    "        print(\"sentence:\", sentence, \"\\n bow:\", x)\n",
    "    # input layer is our bag of words\n",
    "    l0 = x\n",
    "    # matrix multiplication of input and hidden layer\n",
    "    l1 = sigmoid(np.dot(l0, synapse_0))\n",
    "    # output layer\n",
    "    l2 = sigmoid(np.dot(l1, synapse_1))\n",
    "    return l2\n"
   ]
  },
  {
   "cell_type": "code",
   "execution_count": 35,
   "metadata": {},
   "outputs": [],
   "source": [
    "def train(X, y, hidden_neurons=10, alpha=1, epochs=50000, dropout=False, dropout_percent=0.5):\n",
    "\n",
    "    print (\"Training with %s neurons, alpha:%s, dropout:%s %s\" % (hidden_neurons, str(alpha), dropout, dropout_percent if dropout else '') )\n",
    "    print (\"Input matrix: %sx%s    Output matrix: %sx%s\" % (len(X),len(X[0]),1, len(classes)) )\n",
    "    np.random.seed(1)\n",
    "\n",
    "    last_mean_error = 1\n",
    "    # randomly initialize our weights with mean 0\n",
    "    synapse_0 = 2*np.random.random((len(X[0]), hidden_neurons)) - 1\n",
    "    synapse_1 = 2*np.random.random((hidden_neurons, len(classes))) - 1\n",
    "\n",
    "    prev_synapse_0_weight_update = np.zeros_like(synapse_0)\n",
    "    prev_synapse_1_weight_update = np.zeros_like(synapse_1)\n",
    "\n",
    "    synapse_0_direction_count = np.zeros_like(synapse_0)\n",
    "    synapse_1_direction_count = np.zeros_like(synapse_1)\n",
    "        \n",
    "    for j in iter(range(epochs+1)):\n",
    "\n",
    "        # Feed forward through layers 0, 1, and 2\n",
    "        layer_0 = X\n",
    "        layer_1 = sigmoid(np.dot(layer_0, synapse_0))\n",
    "                \n",
    "        if(dropout):\n",
    "            layer_1 *= np.random.binomial([np.ones((len(X),hidden_neurons))],1-dropout_percent)[0] * (1.0/(1-dropout_percent))\n",
    "\n",
    "        layer_2 = sigmoid(np.dot(layer_1, synapse_1))\n",
    "\n",
    "        # how much did we miss the target value?\n",
    "        layer_2_error = y - layer_2\n",
    "\n",
    "        if (j% 10000) == 0 and j > 5000:\n",
    "            # if this 10k iteration's error is greater than the last iteration, break out\n",
    "            if np.mean(np.abs(layer_2_error)) < last_mean_error:\n",
    "                print (\"delta after \"+str(j)+\" iterations:\" + str(np.mean(np.abs(layer_2_error))) )\n",
    "                last_mean_error = np.mean(np.abs(layer_2_error))\n",
    "            else:\n",
    "                print (\"break:\", np.mean(np.abs(layer_2_error)), \">\", last_mean_error )\n",
    "                break\n",
    "                \n",
    "        # in what direction is the target value?\n",
    "        # were we really sure? if so, don't change too much.\n",
    "        layer_2_delta = layer_2_error * sigmoid_output_to_derivative(layer_2)\n",
    "\n",
    "        # how much did each l1 value contribute to the l2 error (according to the weights)?\n",
    "        layer_1_error = layer_2_delta.dot(synapse_1.T)\n",
    "\n",
    "        # in what direction is the target l1?\n",
    "        # were we really sure? if so, don't change too much.\n",
    "        layer_1_delta = layer_1_error * sigmoid_output_to_derivative(layer_1)\n",
    "        \n",
    "        synapse_1_weight_update = (layer_1.T.dot(layer_2_delta))\n",
    "        synapse_0_weight_update = (layer_0.T.dot(layer_1_delta))\n",
    "        \n",
    "        if(j > 0):\n",
    "            synapse_0_direction_count += np.abs(((synapse_0_weight_update > 0)+0) - ((prev_synapse_0_weight_update > 0) + 0))\n",
    "            synapse_1_direction_count += np.abs(((synapse_1_weight_update > 0)+0) - ((prev_synapse_1_weight_update > 0) + 0))        \n",
    "        \n",
    "        synapse_1 += alpha * synapse_1_weight_update\n",
    "        synapse_0 += alpha * synapse_0_weight_update\n",
    "        \n",
    "        prev_synapse_0_weight_update = synapse_0_weight_update\n",
    "        prev_synapse_1_weight_update = synapse_1_weight_update\n",
    "\n",
    "    now = datetime.datetime.now()\n",
    "\n",
    "    # persist synapses\n",
    "    synapse = {'synapse0': synapse_0.tolist(), 'synapse1': synapse_1.tolist(),\n",
    "               'datetime': now.strftime(\"%Y-%m-%d %H:%M\"),\n",
    "               'words': words,\n",
    "               'classes': classes\n",
    "              }\n",
    "    synapse_file = \"synapses.json\"\n",
    "\n",
    "    with open(synapse_file, 'w') as outfile:\n",
    "        json.dump(synapse, outfile, indent=4, sort_keys=True)\n",
    "    print (\"saved synapses to:\", synapse_file)\n",
    "        "
   ]
  },
  {
   "cell_type": "code",
   "execution_count": 36,
   "metadata": {},
   "outputs": [
    {
     "name": "stdout",
     "output_type": "stream",
     "text": [
      "Training with 20 neurons, alpha:0.1, dropout:False \n",
      "Input matrix: 12x26    Output matrix: 1x3\n",
      "delta after 10000 iterations:0.006339386725862213\n",
      "delta after 20000 iterations:0.004323590964018436\n",
      "delta after 30000 iterations:0.0034661910912994302\n",
      "delta after 40000 iterations:0.00296613750702867\n",
      "delta after 50000 iterations:0.0026298645114846285\n",
      "delta after 60000 iterations:0.0023843391538275723\n",
      "delta after 70000 iterations:0.00219515895992727\n",
      "delta after 80000 iterations:0.002043744113821668\n",
      "delta after 90000 iterations:0.0019190751729039777\n",
      "delta after 100000 iterations:0.0018141535422373021\n",
      "saved synapses to: synapses.json\n"
     ]
    },
    {
     "ename": "NameError",
     "evalue": "name 'strat_time' is not defined",
     "output_type": "error",
     "traceback": [
      "\u001b[0;31m---------------------------------------------------------------------------\u001b[0m",
      "\u001b[0;31mNameError\u001b[0m                                 Traceback (most recent call last)",
      "\u001b[0;32m<ipython-input-36-a5eee7b235f2>\u001b[0m in \u001b[0;36m<module>\u001b[0;34m()\u001b[0m\n\u001b[1;32m      6\u001b[0m \u001b[0mtrain\u001b[0m\u001b[0;34m(\u001b[0m\u001b[0mX\u001b[0m\u001b[0;34m,\u001b[0m \u001b[0my\u001b[0m\u001b[0;34m,\u001b[0m \u001b[0mhidden_neurons\u001b[0m\u001b[0;34m=\u001b[0m\u001b[0;36m20\u001b[0m\u001b[0;34m,\u001b[0m\u001b[0malpha\u001b[0m\u001b[0;34m=\u001b[0m\u001b[0;36m0.1\u001b[0m\u001b[0;34m,\u001b[0m \u001b[0mepochs\u001b[0m \u001b[0;34m=\u001b[0m \u001b[0;36m100000\u001b[0m\u001b[0;34m,\u001b[0m \u001b[0mdropout\u001b[0m\u001b[0;34m=\u001b[0m\u001b[0;32mFalse\u001b[0m\u001b[0;34m,\u001b[0m \u001b[0mdropout_percent\u001b[0m\u001b[0;34m=\u001b[0m\u001b[0;36m0.2\u001b[0m\u001b[0;34m)\u001b[0m\u001b[0;34m\u001b[0m\u001b[0m\n\u001b[1;32m      7\u001b[0m \u001b[0;34m\u001b[0m\u001b[0m\n\u001b[0;32m----> 8\u001b[0;31m \u001b[0melapsed_time\u001b[0m \u001b[0;34m=\u001b[0m \u001b[0mtime\u001b[0m\u001b[0;34m.\u001b[0m\u001b[0mtime\u001b[0m\u001b[0;34m(\u001b[0m\u001b[0;34m)\u001b[0m \u001b[0;34m-\u001b[0m \u001b[0mstrat_time\u001b[0m\u001b[0;34m\u001b[0m\u001b[0m\n\u001b[0m\u001b[1;32m      9\u001b[0m \u001b[0mprint\u001b[0m\u001b[0;34m(\u001b[0m\u001b[0;34m\"Processing time\"\u001b[0m\u001b[0;34m,\u001b[0m \u001b[0melapsed_time\u001b[0m\u001b[0;34m,\u001b[0m \u001b[0;34m\"seconds\"\u001b[0m\u001b[0;34m)\u001b[0m\u001b[0;34m\u001b[0m\u001b[0m\n",
      "\u001b[0;31mNameError\u001b[0m: name 'strat_time' is not defined"
     ]
    }
   ],
   "source": [
    "X = np.array(training)\n",
    "y = np.array(output)\n",
    "\n",
    "start_time = time.time()\n",
    "\n",
    "train(X, y, hidden_neurons=20,alpha=0.1, epochs = 100000, dropout=False, dropout_percent=0.2)\n",
    "\n",
    "elapsed_time = time.time() - strat_time\n",
    "print(\"Processing time\", elapsed_time, \"seconds\")"
   ]
  },
  {
   "cell_type": "code",
   "execution_count": 37,
   "metadata": {},
   "outputs": [],
   "source": [
    "# probability threshold\n",
    "ERROR_THRESHOLD = 0.2\n",
    "# load our calculated synapse values\n",
    "synapse_file = 'synapses.json' \n",
    "with open(synapse_file) as data_file: \n",
    "    synapse = json.load(data_file) \n",
    "    synapse_0 = np.asarray(synapse['synapse0']) \n",
    "    synapse_1 = np.asarray(synapse['synapse1'])\n",
    "\n",
    "def classify(sentence, show_details=False):\n",
    "    results = think(sentence, show_details)\n",
    "\n",
    "    results = [[i,r] for i,r in enumerate(results) if r>ERROR_THRESHOLD ] \n",
    "    results.sort(key=lambda x: x[1], reverse=True) \n",
    "    return_results =[[classes[r[0]],r[1]] for r in results]\n",
    "    print (\"%s \\n classification: %s\" % (sentence, return_results))\n",
    "    return return_results"
   ]
  },
  {
   "cell_type": "code",
   "execution_count": 38,
   "metadata": {},
   "outputs": [
    {
     "name": "stdout",
     "output_type": "stream",
     "text": [
      "how are you today? \n",
      " classification: [['greeting', 0.9985682149776903]]\n"
     ]
    },
    {
     "data": {
      "text/plain": [
       "[['greeting', 0.9985682149776903]]"
      ]
     },
     "execution_count": 38,
     "metadata": {},
     "output_type": "execute_result"
    }
   ],
   "source": [
    "classify(\"how are you today?\")"
   ]
  },
  {
   "cell_type": "code",
   "execution_count": 39,
   "metadata": {},
   "outputs": [
    {
     "name": "stdout",
     "output_type": "stream",
     "text": [
      "how about your lunch \n",
      " classification: [['greeting', 0.9032603255315935], ['sandwich', 0.3469762186731649]]\n"
     ]
    },
    {
     "data": {
      "text/plain": [
       "[['greeting', 0.9032603255315935], ['sandwich', 0.3469762186731649]]"
      ]
     },
     "execution_count": 39,
     "metadata": {},
     "output_type": "execute_result"
    }
   ],
   "source": [
    "classify(\"how about your lunch\")"
   ]
  },
  {
   "cell_type": "code",
   "execution_count": 41,
   "metadata": {},
   "outputs": [
    {
     "name": "stdout",
     "output_type": "stream",
     "text": [
      "make me some lunch \n",
      " classification: [['sandwich', 0.9906203898490786]]\n"
     ]
    },
    {
     "data": {
      "text/plain": [
       "[['sandwich', 0.9906203898490786]]"
      ]
     },
     "execution_count": 41,
     "metadata": {},
     "output_type": "execute_result"
    }
   ],
   "source": [
    "classify(\"make me some lunch\")"
   ]
  },
  {
   "cell_type": "code",
   "execution_count": 42,
   "metadata": {},
   "outputs": [
    {
     "name": "stdout",
     "output_type": "stream",
     "text": [
      "talk to you tomorrow? \n",
      " classification: [['goodbye', 0.99030023609869]]\n"
     ]
    },
    {
     "data": {
      "text/plain": [
       "[['goodbye', 0.99030023609869]]"
      ]
     },
     "execution_count": 42,
     "metadata": {},
     "output_type": "execute_result"
    }
   ],
   "source": [
    "classify(\"talk to you tomorrow?\")"
   ]
  },
  {
   "cell_type": "code",
   "execution_count": null,
   "metadata": {},
   "outputs": [],
   "source": []
  }
 ],
 "metadata": {
  "kernelspec": {
   "display_name": "Python 3",
   "language": "python",
   "name": "python3"
  },
  "language_info": {
   "codemirror_mode": {
    "name": "ipython",
    "version": 3
   },
   "file_extension": ".py",
   "mimetype": "text/x-python",
   "name": "python",
   "nbconvert_exporter": "python",
   "pygments_lexer": "ipython3",
   "version": "3.6.4"
  }
 },
 "nbformat": 4,
 "nbformat_minor": 2
}
